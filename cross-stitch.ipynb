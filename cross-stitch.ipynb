{
 "cells": [
  {
   "cell_type": "code",
   "execution_count": 59,
   "id": "fcb33f4d",
   "metadata": {},
   "outputs": [
    {
     "name": "stdout",
     "output_type": "stream",
     "text": [
      "Inserte la ruta de la imagen que quiera usar\n"
     ]
    },
    {
     "name": "stdin",
     "output_type": "stream",
     "text": [
      " draco.png\n"
     ]
    },
    {
     "data": {
      "image/png": "[encoded data removed]",
      "text/plain": [
       "<PIL.Image.Image image mode=RGB size=225x225 at 0x12B9CFE10>"
      ]
     },
     "metadata": {},
     "output_type": "display_data"
    },
    {
     "name": "stdout",
     "output_type": "stream",
     "text": [
      "33\n"
     ]
    }
   ],
   "source": [
    "from PIL import Image\n",
    "import matplotlib.pyplot as plt\n",
    "import matplotlib.ticker as plticker\n",
    "import math\n",
    "\n",
    "print('Inserte la ruta de la imagen que quiera usar')\n",
    "ruta_archivo = input()\n",
    "picture = Image.open(ruta_archivo)\n",
    "picture = picture.convert('RGB')\n",
    "nombre_archivo_terminacion = ruta_archivo.split('.')\n",
    "terminacion_archivo = nombre_archivo_terminacion[-1]\n",
    "nombre_archivo = nombre_archivo_terminacion[0].split('/')[-1]\n",
    "\n",
    "# Obtener el tamaño de la imagen\n",
    "width, height = picture.size\n",
    "# Hacer paquetes de x pixeles\n",
    "pixel_block = 2\n",
    "# Variable start para el primer bucle del bucle anidado, que corresponde con la anchura\n",
    "startx = 0\n",
    "# Variable finish para el primer bucle del bucle anidado, que corresponde con la anchura\n",
    "finishx = pixel_block\n",
    "# Variable start para el segundo bucle del bucle anidado, que corresponde con la altura\n",
    "starty = 0\n",
    "# Variable finish para el segundo bucle del bucle anidado, que corresponde con la altura\n",
    "finishy = pixel_block\n",
    "# Longitud del primer bucle anidado, que corresponde con la anchura\n",
    "lonx = width\n",
    "# Longitud del segundo bucle anidado, que corresponde con la altura\n",
    "lony = height\n",
    "# Booleano para indicar que si el bucle while debe seguir. Hasta que no se llegue al último punto de la altura y anchura\n",
    "# debe seguir.\n",
    "keepReading = True\n",
    "# Diccionario para guardar el color y las veces que se repite en los píxeles en los bloques de 8x8\n",
    "pixel_colour_array = {}\n",
    "# Array para guardar los colores que aparecen en la imagen y mostrar la lista con su valor de DMC asignado\n",
    "colour_array = []\n",
    "# Nuevo color con el que se debe reescribir la imagen. Este color será el color que más aparezca en el bloque de 8x8 píxeles\n",
    "new_colour = None\n",
    "\n",
    "# Coger los colores que hay para hilos de punto de cruz\n",
    "\n",
    "from bs4 import BeautifulSoup\n",
    "import pandas as pd\n",
    "import requests\n",
    "\n",
    "# Url usada para coger los colores de los hilos\n",
    "url = 'http://my.crazyartzone.com/dmc.asp'\n",
    "\n",
    "r = requests.get(url)\n",
    "html_doc = r.text\n",
    "soup = BeautifulSoup(html_doc, features='html.parser')\n",
    "\n",
    "# Encontrar la etiqueta de la tabla y luego coger las filas (tr) y seguidamente las columnas (td)\n",
    "datadiv=soup.find(\"table\")\n",
    "elementsfull =[]\n",
    "row=0\n",
    "for tr in datadiv.findAll(\"tr\"):\n",
    "    elements=[]\n",
    "    column=0\n",
    "    for td in tr.findAll(\"td\"):\n",
    "        if(td.text!=''):\n",
    "            elements.append(td.text)\n",
    "            column+=1\n",
    "            #print('column: ', column)   \n",
    "\n",
    "    elementsfull.append(elements)        \n",
    "    #print('row: ', row)        \n",
    "    row+=1\n",
    "# Añadir el nombre a las columnas para luego poder buscar más fácilmente en la tabla\n",
    "nombres_columnas = ['Color', 'DMC', 'Floss Name', 'Red', 'Green', 'Blue', 'RGB']\n",
    "mydf = pd.DataFrame(data=elementsfull, columns=nombres_columnas)\n",
    "# Borrar la primera fila que tenía las cabeceras y al pasar por el bucle queda como None, None... al ser la etiqueta th en lugar de td\n",
    "mydf = mydf.iloc[1: , :]\n",
    "\n",
    "# Crear un diccionario con los valores de Red, Green y Blue y el valor DMC\n",
    "diccionario_colores = {}\n",
    "for i in range(1, len(mydf)+1, 1):\n",
    "    rgb_tuple = (int(mydf['Red'][i]), int(mydf['Green'][i]), int(mydf['Blue'][i]))\n",
    "    diccionario_colores[rgb_tuple] = mydf['DMC'][i]\n",
    "\n",
    "# Comenzar a reescribir la imagen\n",
    "while (keepReading):\n",
    "    for x in range(startx, finishx):\n",
    "        for y in range(starty, finishy):\n",
    "            # Color del pixel actual\n",
    "            current_color = picture.getpixel( (x,y) )\n",
    "            # Rellenar array de colores\n",
    "            if current_color in pixel_colour_array:\n",
    "                pixel_colour_array[current_color] = pixel_colour_array[current_color] + 1\n",
    "            else:\n",
    "                pixel_colour_array[current_color] = 1\n",
    "    \n",
    "    # Buscar qué color se repite más en el bucle\n",
    "    max_value = max(pixel_colour_array.values())\n",
    "    # Coger la clave (que es el color) a partir de su valor (las veces que se repite)\n",
    "    new_colour = list(pixel_colour_array.keys())[list(pixel_colour_array.values()).index(max_value)]\n",
    "    \n",
    "    \n",
    "    # Coger el color de la lista de colores dmc que más se parezca al color del pixel que más se repite\n",
    "    # Coger el color más cercano al color del pixel usando la mínima distancia euclidea.\n",
    "    def distance(c1, c2):\n",
    "        (r1,g1,b1) = c1\n",
    "        (r2,g2,b2) = c2\n",
    "        return math.sqrt((r1 - r2)**2 + (g1 - g2) ** 2 + (b1 - b2) **2)\n",
    "\n",
    "    # Del diccionario de colores quedarse con el color más cercano al del pixel\n",
    "    colors = list(diccionario_colores.keys())\n",
    "    closest_colors = sorted(colors, key=lambda color: distance(color, new_colour))\n",
    "    color_pixel_dmc = closest_colors[0]\n",
    "    \n",
    "    # Reescribir todo el bloque de 8x8 con el color que más aparezca en el bloque\n",
    "    for x in range(startx, finishx):\n",
    "        for y in range(starty, finishy):\n",
    "            picture.putpixel( (x,y), color_pixel_dmc)\n",
    "    # Añadir color a la lista de colores de la imagen\n",
    "    new_colour_dmc = diccionario_colores[color_pixel_dmc]\n",
    "    if new_colour_dmc not in colour_array:\n",
    "        colour_array.append(new_colour_dmc)\n",
    "    # Reiniciar el diccionario y el new_colour\n",
    "    pixel_colour_array = {}\n",
    "    new_colour = None\n",
    "    color_pixel_dmc = None\n",
    "            \n",
    "    # Reescribir variables de los bucles anidados\n",
    "    startx = startx + pixel_block\n",
    "    finishx = finishx + pixel_block\n",
    "    if (finishx > lonx):\n",
    "        finishx = lonx\n",
    "    else:\n",
    "        pass\n",
    "    if (startx >= lonx):\n",
    "        starty = starty + pixel_block\n",
    "        finishy = finishy + pixel_block\n",
    "        startx = 0\n",
    "        finishx = pixel_block\n",
    "        if (finishy > lony):\n",
    "            finishy = lony\n",
    "        else:\n",
    "            pass\n",
    "    else:\n",
    "        pass\n",
    "    if (startx == 0 and starty >=lony):\n",
    "        keepReading = False\n",
    "    else:\n",
    "        pass\n",
    "    \n",
    "\n",
    "display(picture)\n",
    "# Guardar la imagen\n",
    "picture = picture.save(nombre_archivo + \"_Nuevo.\" + terminacion_archivo)\n"
   ]
  },
  {
   "cell_type": "code",
   "execution_count": 60,
   "id": "b129f2bf",
   "metadata": {},
   "outputs": [
    {
     "name": "stderr",
     "output_type": "stream",
     "text": [
      "Clipping input data to the valid range for imshow with RGB data ([0..1] for floats or [0..255] for integers).\n"
     ]
    },
    {
     "data": {
      "image/png": "[encoded data removed]",
      "text/plain": [
       "<Figure size 1800x1800 with 1 Axes>"
      ]
     },
     "metadata": {
      "needs_background": "light"
     },
     "output_type": "display_data"
    }
   ],
   "source": [
    "# Añadir grid a la imagen para diferenciar bien los puntos\n",
    "\n",
    "import numpy as np\n",
    "import matplotlib.pyplot as plt\n",
    "from PIL import Image\n",
    "\n",
    "plt.figure(figsize=(25, 25))\n",
    "img = plt.imread(nombre_archivo + \"_Nuevo.\" + terminacion_archivo)\n",
    "img_copy = img.copy()\n",
    "dx, dy = pixel_block,pixel_block\n",
    "\n",
    "grid_color = 150\n",
    "img_copy[:,::dy] = grid_color\n",
    "img_copy[::dx,:] = grid_color\n",
    "\n",
    "plt.imshow(img_copy)\n",
    "plt.savefig(nombre_archivo + \"_Nuevo.\" + terminacion_archivo)"
   ]
  },
  {
   "cell_type": "code",
   "execution_count": 9,
   "id": "1abad8d4",
   "metadata": {},
   "outputs": [
    {
     "data": {
      "image/png": "[encoded data removed]",
      "text/plain": [
       "<PIL.Image.Image image mode=RGB size=120x65 at 0x105170550>"
      ]
     },
     "metadata": {},
     "output_type": "display_data"
    }
   ],
   "source": [
    "# Crear la lista de colores DMC que se usan en la imagen\n",
    "from PIL import Image, ImageDraw\n",
    "\n",
    "canvas = Image.new(\"RGB\", (120,65), 'white')\n",
    "img_draw = ImageDraw.Draw(canvas)\n",
    "# El primer dato es esquina de arriba izquierda x\n",
    "# El segundo dato es esquina de arriba izquierda y\n",
    "# El tecer dato es esquina de abajo derecha x\n",
    "# El cuarto dato es esquina de abajo derecha y\n",
    "img_draw.rectangle((10,40,55,30), outline='black',fill=(120,120,120))\n",
    "img_draw.text((75,30), 'Prueba', fill='black')\n",
    "img_draw.rectangle((10,20,55,10), outline='black',fill=(256,0,0))\n",
    "img_draw.text((75,10), 'Prueba', fill='black')\n",
    "display(canvas)\n",
    "\n",
    "canvas.save(nombre_archivo + \"_Colores_DMC.\" + terminacion_archivo)"
   ]
  },
  {
   "cell_type": "code",
   "execution_count": 32,
   "id": "a7a6fac5",
   "metadata": {},
   "outputs": [
    {
     "name": "stdout",
     "output_type": "stream",
     "text": [
      "    Color   DMC         Floss Name   Red Green  Blue      RGB\n",
      "0    None  None               None  None  None  None     None\n",
      "1          3713  Salmon Very Light   255   226   226  #FFE2E2\n",
      "2           761       Salmon Light   255   201   201  #FFC9C9\n",
      "3           760             Salmon   245   173   173  #F5ADAD\n",
      "4          3712      Salmon Medium   241   135   135  #F18787\n",
      "..    ...   ...                ...   ...   ...   ...      ...\n",
      "485          31          Blueberry    80    81   141  #50518D\n",
      "486          32     Blueberry Dark    77    46   138  #4D2E8A\n",
      "487          33            Fuschia   156    89   158  #9C599C\n",
      "488          34       Fuschia Dark   125    48   100  #7D3064\n",
      "489          35  Fuschia Very Dark    70     5    45  #46052D\n",
      "\n",
      "[490 rows x 7 columns]\n"
     ]
    }
   ],
   "source": []
  },
  {
   "cell_type": "code",
   "execution_count": 18,
   "id": "4f390581-f5a7-45ca-924a-e832a8144397",
   "metadata": {},
   "outputs": [],
   "source": []
  },
  {
   "cell_type": "code",
   "execution_count": 37,
   "id": "21a9e3e8-c795-453a-93a0-b07a0b526b56",
   "metadata": {},
   "outputs": [
    {
     "name": "stdout",
     "output_type": "stream",
     "text": [
      "180\n"
     ]
    }
   ],
   "source": []
  },
  {
   "cell_type": "code",
   "execution_count": null,
   "id": "ef13c58d-d82c-45d7-ba84-0f3ed94a0794",
   "metadata": {},
   "outputs": [],
   "source": []
  }
 ],
 "metadata": {
  "kernelspec": {
   "display_name": "Python 3",
   "language": "python",
   "name": "python3"
  },
  "language_info": {
   "codemirror_mode": {
    "name": "ipython",
    "version": 3
   },
   "file_extension": ".py",
   "mimetype": "text/x-python",
   "name": "python",
   "nbconvert_exporter": "python",
   "pygments_lexer": "ipython3",
   "version": "3.7.10"
  }
 },
 "nbformat": 4,
 "nbformat_minor": 5
}
